{
 "cells": [
  {
   "cell_type": "code",
   "execution_count": 36,
   "id": "eba638da",
   "metadata": {},
   "outputs": [],
   "source": [
    "import requests\n",
    "from bs4 import BeautifulSoup\n",
    "import pandas as pd\n",
    "import os"
   ]
  },
  {
   "cell_type": "code",
   "execution_count": 37,
   "id": "ef81e70c",
   "metadata": {},
   "outputs": [],
   "source": [
    "urlnew=[\"https://www.espncricinfo.com/series/indian-premier-league-2022-1298423/kolkata-knight-riders-vs-punjab-kings-8th-match-1304054/full-scorecard\"]\n"
   ]
  },
  {
   "cell_type": "code",
   "execution_count": 38,
   "id": "fc1cc8ca",
   "metadata": {},
   "outputs": [],
   "source": [
    "def toss(url):\n",
    "    webpage=requests.get(url)\n",
    "    web=webpage.content\n",
    "    soup=BeautifulSoup(web,\"html.parser\")\n",
    "    for m in soup.find_all(\"span\"):\n",
    "        n=m.text\n",
    "        if \"elected\" in n:\n",
    "            print(n)"
   ]
  },
  {
   "cell_type": "code",
   "execution_count": 39,
   "id": "62473b2a",
   "metadata": {},
   "outputs": [
    {
     "name": "stdout",
     "output_type": "stream",
     "text": [
      "Kolkata Knight Riders, elected to field first\n"
     ]
    }
   ],
   "source": [
    "toss=[toss(url) for url in urlnew]\n"
   ]
  },
  {
   "cell_type": "code",
   "execution_count": 40,
   "id": "52368ddf",
   "metadata": {},
   "outputs": [],
   "source": [
    "def matchwinner(url):\n",
    "    webpage=requests.get(url)\n",
    "    web=webpage.content\n",
    "    soup=BeautifulSoup(web,\"html.parser\")\n",
    "    for m in soup.find_all(\"p\", {\"class\" : \"ds-text-tight-m\"}):\n",
    "        for span in m.find_all(\"span\"):\n",
    "            print(span.text)"
   ]
  },
  {
   "cell_type": "code",
   "execution_count": 41,
   "id": "a13a0186",
   "metadata": {},
   "outputs": [
    {
     "name": "stdout",
     "output_type": "stream",
     "text": [
      "KKR won by 6 wickets (with 33 balls remaining)\n"
     ]
    }
   ],
   "source": [
    "winner=[matchwinner(url) for url in urlnew]\n"
   ]
  },
  {
   "cell_type": "code",
   "execution_count": 42,
   "id": "c7ea1943",
   "metadata": {},
   "outputs": [],
   "source": [
    "def scores(url):\n",
    "    webpage=requests.get(url)\n",
    "    web=webpage.content\n",
    "    soup=BeautifulSoup(web,\"html.parser\")\n",
    "    for m in soup.find_all(\"div\", {\"class\" : \"ds-text-compact-m\"}):\n",
    "        for s in m.find_all(\"strong\"):\n",
    "            print(s.text)"
   ]
  },
  {
   "cell_type": "code",
   "execution_count": 43,
   "id": "d1ec58bb",
   "metadata": {},
   "outputs": [
    {
     "name": "stdout",
     "output_type": "stream",
     "text": [
      "137\n",
      "141/4\n"
     ]
    }
   ],
   "source": [
    "score=[scores(url) for url in urlnew]\n"
   ]
  },
  {
   "cell_type": "code",
   "execution_count": 44,
   "id": "d3e40806",
   "metadata": {},
   "outputs": [],
   "source": [
    "def teamnames(url):\n",
    "    webpage=requests.get(url)\n",
    "    web=webpage.content\n",
    "    soup=BeautifulSoup(web,\"html.parser\")\n",
    "    for m in soup.find_all(\"span\", {\"class\" : \"ds-text-tight-l\"}):\n",
    "        print(m.text)\n",
    "       "
   ]
  },
  {
   "cell_type": "code",
   "execution_count": 45,
   "id": "c7f67dff",
   "metadata": {},
   "outputs": [
    {
     "name": "stdout",
     "output_type": "stream",
     "text": [
      "Punjab Kings\n",
      "Kolkata Knight Riders\n",
      "Unlocking the magic of Statsguru\n"
     ]
    }
   ],
   "source": [
    "teams=[teamnames(url) for url in urlnew]\n"
   ]
  },
  {
   "cell_type": "code",
   "execution_count": null,
   "id": "d7db86d2",
   "metadata": {},
   "outputs": [],
   "source": []
  }
 ],
 "metadata": {
  "kernelspec": {
   "display_name": "Python 3 (ipykernel)",
   "language": "python",
   "name": "python3"
  },
  "language_info": {
   "codemirror_mode": {
    "name": "ipython",
    "version": 3
   },
   "file_extension": ".py",
   "mimetype": "text/x-python",
   "name": "python",
   "nbconvert_exporter": "python",
   "pygments_lexer": "ipython3",
   "version": "3.11.5"
  }
 },
 "nbformat": 4,
 "nbformat_minor": 5
}
